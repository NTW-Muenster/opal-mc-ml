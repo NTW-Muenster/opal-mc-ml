{
 "cells": [
  {
   "cell_type": "markdown",
   "source": [
    "# Opal Masterclass mit maschinellem Lernen"
   ],
   "metadata": {}
  },
  {
   "cell_type": "markdown",
   "source": [
    "Lade Funktionen und alles was sonst noch nötig ist..."
   ],
   "metadata": {}
  },
  {
   "cell_type": "code",
   "execution_count": null,
   "source": [
    "import os, platform\n",
    "if \"opal_mc_ml_helpers.py\" in os.listdir():\n",
    "    print(\"Helpers schon vorhanden\")\n",
    "else:\n",
    "    if platform.system() == \"Linux\":\n",
    "        print(\"Helpers nicht vorhanden, starte Download...\", end=\"\")\n",
    "        os.system(\"wget -O opal_mc_ml_helpers.py \\\"https://raw.githubusercontent.com/ntiltmann/opal-mc-ml/main/opal_mc_ml_helpers.py\\\"\")\n",
    "        print(\" abgeschlossen!\")\n",
    "    elif platform.system() == \"Darwin\":\n",
    "        print(\"Helpers nicht vorhanden, starte Download...\", end=\"\")\n",
    "        os.system(\"curl -o opal_mc_ml_helpers.py \\\"https://raw.githubusercontent.com/ntiltmann/opal-mc-ml/main/opal_mc_ml_helpers.py\\\"\")\n",
    "        print(\" abgeschlossen!\")\n",
    "    else:\n",
    "        raise Exception(\"Kein Automatischer Download unter Windows möglich. Bitte alle Dateien manuell herunterladen.\")\n",
    "from opal_mc_ml_helpers import *\n",
    "check_files()"
   ],
   "outputs": [],
   "metadata": {}
  },
  {
   "cell_type": "code",
   "execution_count": null,
   "source": [],
   "outputs": [],
   "metadata": {}
  }
 ],
 "metadata": {
  "interpreter": {
   "hash": "f8af8a5d58c03aea7fed271afda0c18009a73827ffd40ee9cf6d51ffb766ed25"
  },
  "kernelspec": {
   "display_name": "Python 3.8.5 64-bit ('base': conda)",
   "name": "python3"
  },
  "language_info": {
   "name": "python",
   "version": ""
  }
 },
 "nbformat": 4,
 "nbformat_minor": 4
}