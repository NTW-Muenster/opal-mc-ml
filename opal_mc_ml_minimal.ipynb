{
 "cells": [
  {
   "cell_type": "markdown",
   "metadata": {},
   "source": [
    "# Opal Masterclass mit maschinellem Lernen"
   ]
  },
  {
   "cell_type": "markdown",
   "metadata": {},
   "source": [
    "Lade Funktionen und alles was sonst noch nötig ist..."
   ]
  },
  {
   "cell_type": "code",
   "execution_count": null,
   "metadata": {},
   "outputs": [],
   "source": [
    "import os\n",
    "if \"opal_mc_ml_helpers.py\" in os.listdir():\n",
    "    print(\"Helpers schon vorhanden\")\n",
    "else:\n",
    "    print(\"Helpers nicht vorhanden, starte Download...\", end=\"\")\n",
    "    os.system(\"wget -O opal_mc_ml_helpers.py \\\"https://raw.githubusercontent.com/ntiltmann/opal-mc-ml/main/opal_mc_ml_helpers.py\\\"\")\n",
    "    print(\" abgeschlossen!\")\n",
    "from opal_mc_ml_helpers import *\n",
    "check_files()"
   ]
  },
  {
   "cell_type": "code",
   "execution_count": null,
   "metadata": {},
   "outputs": [],
   "source": []
  }
 ],
 "metadata": {
  "interpreter": {
   "hash": "f8af8a5d58c03aea7fed271afda0c18009a73827ffd40ee9cf6d51ffb766ed25"
  },
  "kernelspec": {
   "display_name": "Python 3.8.5 64-bit ('base': conda)",
   "name": "python3"
  },
  "language_info": {
   "name": "python",
   "version": ""
  }
 },
 "nbformat": 4,
 "nbformat_minor": 4
}