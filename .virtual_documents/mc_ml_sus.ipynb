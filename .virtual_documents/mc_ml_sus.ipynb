


import os, platform
if "opal_mc_ml_helpers.py" in os.listdir():
    print("Helpers schon vorhanden")
else:
    if platform.system() == "Linux":
        print("Helpers nicht vorhanden, starte Download...", end="")
        os.system("wget -O opal_mc_ml_helpers.py \"https://raw.githubusercontent.com/ntiltmann/opal-mc-ml/main/opal_mc_ml_helpers.py\"")
        print(" abgeschlossen!")
    elif platform.system() == "Darwin":
        print("Helpers nicht vorhanden, starte Download...", end="")
        os.system("curl -o opal_mc_ml_helpers.py \"https://raw.githubusercontent.com/ntiltmann/opal-mc-ml/main/opal_mc_ml_helpers.py\"")
        print(" abgeschlossen!")
    else:
        raise Exception("Kein Automatischer Download unter Windows möglich. Bitte alle Dateien manuell herunterladen und entpacken.")
from opal_mc_ml_helpers import *
check_files()





eventliste = load_events()





trainingsliste = load_training_events()





eventliste[540].show_image(show_category=True)








overview = Overview()
overview.add_entry("Roh", eventliste)
overview.show()





eventliste_tv, eventliste_test = split_events_random_in_category(eventliste, fraction_first_block=)





overview.add_entry("TV", eventliste_tv)
overview.add_entry("Test", eventliste_test)
overview.show()





faktor_q =         # Quarks
faktor_e =         # Elektronen
faktor_m =         # Myonen 
faktor_t =         # Tauonen
eventliste_tv_vermehrt = augment_events(eventliste_tv, trainingsliste, [faktor_q, faktor_e, faktor_m, faktor_t])





eventliste_training, eventliste_validierung = split_events_random_in_category(eventliste_tv_vermehrt, fraction_first_block=0.8)





overview.add_entry("TV verm", eventliste_tv_vermehrt)
overview.add_entry("Train", eventliste_training)
overview.add_entry("Vali", eventliste_validierung)
overview.show()





modell = MLModel()
modell.load_structure_default()
modell.show_structure()
modell.load_training_eventlist(eventliste_training)
modell.load_validation_eventlist(eventliste_validierung)





modell.train(count_epochs=)





modell.show_learning_curve()





eventliste_vorhersage = modell.predict(eventliste_test)





show_confusion_matrix(eventliste_test, eventliste_vorhersage)





overview.add_entry("Vorh", eventliste_vorhersage)
overview.show()





show_false_predictions(eventliste_test, eventliste_vorhersage, count=5)
