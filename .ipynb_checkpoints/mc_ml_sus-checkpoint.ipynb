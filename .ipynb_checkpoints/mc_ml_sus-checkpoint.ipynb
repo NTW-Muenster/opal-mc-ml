{
 "cells": [
  {
   "cell_type": "markdown",
   "metadata": {
    "editable": true,
    "slideshow": {
     "slide_type": ""
    },
    "tags": []
   },
   "source": [
    "# Opal Masterclass mit Maschine Learning\n",
    "\n",
    "### 1. Vorbereitung\n",
    "\n",
    "In diesem Block werden verschiedene Funktionen und Pakete geladen. Das musst du dir nicht weiter anschauen."
   ]
  },
  {
   "cell_type": "code",
   "execution_count": null,
   "metadata": {},
   "outputs": [],
   "source": [
    "import os, platform\n",
    "if \"opal_mc_ml_helpers.py\" in os.listdir():\n",
    "    print(\"Helpers schon vorhanden\")\n",
    "else:\n",
    "    if platform.system() == \"Linux\":\n",
    "        print(\"Helpers nicht vorhanden, starte Download...\", end=\"\")\n",
    "        os.system(\"wget -O opal_mc_ml_helpers.py \\\"https://raw.githubusercontent.com/ntiltmann/opal-mc-ml/main/opal_mc_ml_helpers.py\\\"\")\n",
    "        print(\" abgeschlossen!\")\n",
    "    elif platform.system() == \"Darwin\":\n",
    "        print(\"Helpers nicht vorhanden, starte Download...\", end=\"\")\n",
    "        os.system(\"curl -o opal_mc_ml_helpers.py \\\"https://raw.githubusercontent.com/ntiltmann/opal-mc-ml/main/opal_mc_ml_helpers.py\\\"\")\n",
    "        print(\" abgeschlossen!\")\n",
    "    else:\n",
    "        raise Exception(\"Kein Automatischer Download unter Windows möglich. Bitte alle Dateien manuell herunterladen und entpacken.\")\n",
    "from opal_mc_ml_helpers import *\n",
    "check_files()"
   ]
  },
  {
   "cell_type": "markdown",
   "metadata": {
    "editable": true,
    "slideshow": {
     "slide_type": ""
    },
    "tags": []
   },
   "source": [
    "Die Funktion `load_events()` lädt alle Ereignisse und gibt sie als Liste aus. In der nächsten Zeile werden also alle Events in eine Liste mit dem Namen `eventliste` geladen."
   ]
  },
  {
   "cell_type": "code",
   "execution_count": null,
   "metadata": {},
   "outputs": [],
   "source": [
    "eventliste = load_events()"
   ]
  },
  {
   "cell_type": "markdown",
   "metadata": {},
   "source": [
    "Da Neuronale Netzwerke mit mehr Trainingsdaten besser funktionieren, wurden aus diesen Ereignissen durch Kombination neue Ereignisse generiert, die für das Training des Neuronalen Netzwerks verwendet werden können.\n",
    "Die Funktion `load_training_events()` lädt alle dieser Ereignisse und gibt sie wieder als eine Liste aus. In der nächsten Zeile werden also alle diese Ereignisse in eine Liste mit dem Namen `trainingsliste` geladen."
   ]
  },
  {
   "cell_type": "code",
   "execution_count": null,
   "metadata": {},
   "outputs": [],
   "source": [
    "trainingsliste = load_training_events()"
   ]
  },
  {
   "cell_type": "markdown",
   "metadata": {},
   "source": [
    "Mit `eventliste[x]` kann auf das `x+1`-ste Ereignis zugegriffen werden. Die Methode `.show_image()` gibt das Ereignis grafisch aus. Dieser Schritt hat keine Auswirkungen auf das Neuronale Netz o.ä sondern dient nur der Visualisierung. "
   ]
  },
  {
   "cell_type": "code",
   "execution_count": null,
   "metadata": {
    "scrolled": true
   },
   "outputs": [],
   "source": [
    "eventliste[540].show_image(show_category=True)"
   ]
  },
  {
   "cell_type": "markdown",
   "metadata": {},
   "source": [
    "### 2. Übersichtstabelle anlegen"
   ]
  },
  {
   "cell_type": "markdown",
   "metadata": {},
   "source": [
    "Es wird ein Objekt der Klasse `Overview` erstellt. Damit können später Übersichten der Verzweigungsverhältnisse angezeigt werden.\n",
    "\n",
    "Mit `overview.add_entry()` kann eine bestimmte Eventliste der Übersicht hinzugefügt werden. Der erste Parameter gibt an, wie die Spalte beschriftet sein soll. Danach folgt die Eventliste selbst.\n",
    "\n",
    "Mit `overview.show()` kann dann die Übersicht angezeigt werden."
   ]
  },
  {
   "cell_type": "code",
   "execution_count": null,
   "metadata": {},
   "outputs": [],
   "source": [
    "overview = Overview()\n",
    "overview.add_entry(\"Roh\", eventliste)\n",
    "overview.show()"
   ]
  },
  {
   "cell_type": "markdown",
   "metadata": {},
   "source": [
    "### 3. Training & Validierung\n",
    "\n",
    "Als nächstes werden die Bilddateien in zwei Datensätze aufgeteilt. Einen für Training und Validierung (Abkürzung `tv`) und einen für den anschließenden Test des Neuronalen Netzes. Wähle an dieser Stelle das Verhältnis selber. Trage dafür eine Zahl zwischen `0`und `1` ein. Diese Zahl gibt an wie viel Prozent der Bilddateien in den Datensatz für Training und Validierung hinzugefügt werden. \n",
    "\n",
    "**Beispiel:** eventliste_tv, eventliste_test = split_events_random_in_category(eventliste, fraction_first_block=0.1) bedeutet, dass 10% jeder Eventkategorie der Bilddateien zufällig in den Datensatz für Training und Validierung (`eventliste_tv`) hinzugefügt werden und 90% für den anschließenden Test (`eventliste_test`) genutzt werden.\n",
    "\n",
    "**Hinweis:** Bedenke, dass eine gute Datenbasis für Training und Validierung gebraucht wird, aber die für Training und Validierung verwendeten Daten bekannt sein müssen. Werden sehr viele Daten für Training und Validierung genutzt, bleiben nicht mehr ausreichend Daten für die eigentliche Datenauswertung mit dem Neuronalen Netz.   "
   ]
  },
  {
   "cell_type": "code",
   "execution_count": null,
   "metadata": {
    "editable": true,
    "slideshow": {
     "slide_type": ""
    },
    "tags": []
   },
   "outputs": [],
   "source": [
    "eventliste_tv, eventliste_test = split_events_random_in_category(eventliste, fraction_first_block=)"
   ]
  },
  {
   "cell_type": "markdown",
   "metadata": {},
   "source": [
    "Die Übersicht wird aktualisiert und ausgegeben."
   ]
  },
  {
   "cell_type": "code",
   "execution_count": null,
   "metadata": {},
   "outputs": [],
   "source": [
    "overview.add_entry(\"TV\", eventliste_tv)\n",
    "overview.add_entry(\"Test\", eventliste_test)\n",
    "overview.show()"
   ]
  },
  {
   "cell_type": "markdown",
   "metadata": {},
   "source": [
    "Im nächsten Schritt folgt die Data Augementation, das bedeutet, dass die `tv`-Daten mit Hilfe der `trainingsliste` vervielfältigt werden, damit das Training einfacher wird. Wähle zunächst für alle vier Faktoren (`faktor_q`, `faktor_e`, `faktor_m`, `faktor_t`) einen ganzzahligen Wert zwischen `1`und `5` mit dem die Daten vervielfältigt werden. Später kann es sinnvoll sein, diese Werte teilweise nochmal zu verändern. Grundsätzlich sind dann für `faktor_e`, `faktor_m`, `faktor_t` auch größere Werte als `5`. Das Maximum hängt von der Anzahl der Ereignisse in `eventliste_tv` ab und liegt bei `2n`, wobei n die Anzahl Ereignisse in der Kategorie ist."
   ]
  },
  {
   "cell_type": "code",
   "execution_count": null,
   "metadata": {},
   "outputs": [],
   "source": [
    "faktor_q =         # Quarks\n",
    "faktor_e =         # Elektronen\n",
    "faktor_m =         # Myonen \n",
    "faktor_t =         # Tauonen\n",
    "eventliste_tv_vermehrt = augment_events(eventliste_tv, trainingsliste, [faktor_q, faktor_e, faktor_m, faktor_t])"
   ]
  },
  {
   "cell_type": "markdown",
   "metadata": {},
   "source": [
    "Nun werden die `tv`-Daten in Training (`t`) und Validierung (`v`) unterteilt."
   ]
  },
  {
   "cell_type": "code",
   "execution_count": null,
   "metadata": {},
   "outputs": [],
   "source": [
    "eventliste_training, eventliste_validierung = split_events_random_in_category(eventliste_tv_vermehrt, fraction_first_block=0.8)"
   ]
  },
  {
   "cell_type": "markdown",
   "metadata": {},
   "source": [
    "Die Übersicht wird aktualisiert und ausgegeben."
   ]
  },
  {
   "cell_type": "code",
   "execution_count": null,
   "metadata": {},
   "outputs": [],
   "source": [
    "overview.add_entry(\"TV verm\", eventliste_tv_vermehrt)\n",
    "overview.add_entry(\"Train\", eventliste_training)\n",
    "overview.add_entry(\"Vali\", eventliste_validierung)\n",
    "overview.show()"
   ]
  },
  {
   "cell_type": "markdown",
   "metadata": {
    "editable": true,
    "slideshow": {
     "slide_type": ""
    },
    "tags": []
   },
   "source": [
    "### 4. Modell für das Neuronale Netz anlegen \n",
    "\n",
    "Die Trainingsdaten sind jetzt passend vorbereitet. Im nächsten Block wird ein Modell zum Lernen erstellt. Die Struktur wird einmal ausgegeben. In den letzten beiden Zeilen werden die Trainings- und Validierungsdaten geladen."
   ]
  },
  {
   "cell_type": "code",
   "execution_count": null,
   "metadata": {},
   "outputs": [],
   "source": [
    "modell = MLModel()\n",
    "modell.load_structure_default()\n",
    "modell.show_structure()\n",
    "modell.load_training_eventlist(eventliste_training)\n",
    "modell.load_validation_eventlist(eventliste_validierung)"
   ]
  },
  {
   "cell_type": "markdown",
   "metadata": {},
   "source": [
    "### 5. Training des Modells\n",
    "\n",
    "Mit `train()` wird das Training des Modells gestartet. `count_epochs` gibt an, wie oft über alle Trainings- und Validierungsdaten gelaufen wird. Bei diesen Daten sind häufig Werte zwischen 2 und 8 sinnvoll. Probiere aus, welche Unterschiede du beobachten kannst. \n",
    "\n",
    "**Achtung:** Um Unterschiede zwischen der Anzahl an Trainingsrunden beobachten zu können, muss auch die Zelle vorher, in der das Modell für das Neuronale Netz angelegt wurde, erneut ausgeführt werden."
   ]
  },
  {
   "cell_type": "code",
   "execution_count": null,
   "metadata": {},
   "outputs": [],
   "source": [
    "modell.train(count_epochs=)"
   ]
  },
  {
   "cell_type": "markdown",
   "metadata": {},
   "source": [
    "Die Lernkurve zeigt an, wie die Treffergenauigkeit sich im Laufe des Trainings verändert. Dabei wird die Treffergenauigkeit in Trainingsdaten und Validierungsdaten getrennt aufgetragen."
   ]
  },
  {
   "cell_type": "code",
   "execution_count": null,
   "metadata": {},
   "outputs": [],
   "source": [
    "modell.show_learning_curve()"
   ]
  },
  {
   "cell_type": "markdown",
   "metadata": {},
   "source": [
    "### 6. Vorhersage der OPAL-Daten mit dem Neuronalen Netz\n",
    "\n",
    "Mit dem trainierten Modell können wir nun die Kategorien der Testdaten vorhersagen. Dabei wird die schon zugewiesene Kategorie der Testdaten ignoriert. "
   ]
  },
  {
   "cell_type": "code",
   "execution_count": null,
   "metadata": {
    "scrolled": true
   },
   "outputs": [],
   "source": [
    "eventliste_vorhersage = modell.predict(eventliste_test)"
   ]
  },
  {
   "cell_type": "markdown",
   "metadata": {},
   "source": [
    "Die Confusion Matrix ist ein Indikator dafür, wie gut die Vorhersage mit dem Modell funktioniert. Ein perfektes Modell hätte nur Einträge auf der Diagonalen: Jede Kategorie wird vom Modell so erkannt, wie sie vorher schon dem Bild zugeordnet war. Tatsächlich treten häufig einige falsche Vorhersagen auf. "
   ]
  },
  {
   "cell_type": "code",
   "execution_count": null,
   "metadata": {},
   "outputs": [],
   "source": [
    "show_confusion_matrix(eventliste_test, eventliste_vorhersage)"
   ]
  },
  {
   "cell_type": "markdown",
   "metadata": {},
   "source": [
    "Hier wird die Übersicht über die Verzweigungsverhältnisse noch um eine Spalte mit den vorhergesagten Daten erweitert."
   ]
  },
  {
   "cell_type": "code",
   "execution_count": null,
   "metadata": {},
   "outputs": [],
   "source": [
    "overview.add_entry(\"Vorh\", eventliste_vorhersage)\n",
    "overview.show()"
   ]
  },
  {
   "cell_type": "markdown",
   "metadata": {},
   "source": [
    "Man kann sich nun noch anschauen, welche Bilder falsch vorhergesagt wurden. Gelegentlich ist eine Einteilung auch für Menschen nicht eindeutig möglich."
   ]
  },
  {
   "cell_type": "code",
   "execution_count": null,
   "metadata": {},
   "outputs": [],
   "source": [
    "show_false_predictions(eventliste_test, eventliste_vorhersage, count=5)"
   ]
  }
 ],
 "metadata": {
  "kernelspec": {
   "display_name": "Python 3 (ipykernel)",
   "language": "python",
   "name": "python3"
  },
  "language_info": {
   "codemirror_mode": {
    "name": "ipython",
    "version": 3
   },
   "file_extension": ".py",
   "mimetype": "text/x-python",
   "name": "python",
   "nbconvert_exporter": "python",
   "pygments_lexer": "ipython3",
   "version": "3.9.13"
  },
  "vscode": {
   "interpreter": {
    "hash": "3c85a9f82814a73202534cb24f653a829a8b05ab6d6300336fbb4fc8d6caaf8f"
   }
  }
 },
 "nbformat": 4,
 "nbformat_minor": 4
}
