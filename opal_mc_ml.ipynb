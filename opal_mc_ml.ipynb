{
 "cells": [
  {
   "source": [
    "# Opal Masterclass mit maschinellem Lernen"
   ],
   "cell_type": "markdown",
   "metadata": {}
  },
  {
   "source": [
    "Lade Funktionen und alles was sonst noch nötig ist..."
   ],
   "cell_type": "markdown",
   "metadata": {}
  },
  {
   "cell_type": "code",
   "execution_count": null,
   "metadata": {},
   "outputs": [],
   "source": [
    "import os\n",
    "if \"opal_mc_ml_helpers.py\" in os.listdir():\n",
    "    print(\"Helpers schon vorhanden\")\n",
    "else:\n",
    "    print(\"Helpers nicht vorhanden, starte Download...\", end=\"\")\n",
    "    os.system(\"wget -O opal_mc_ml_helpers.py \\\"https://raw.githubusercontent.com/ntiltmann/opal-mc-ml/main/opal_mc_ml_helpers.py\\\"\")\n",
    "    print(\" abgeschlossen!\")\n",
    "from opal_mc_ml_helpers import *"
   ]
  },
  {
   "source": [
    "Lade die Bilder der Events in eine Liste mit dem Namen bilddaten"
   ],
   "cell_type": "markdown",
   "metadata": {}
  },
  {
   "cell_type": "code",
   "execution_count": null,
   "metadata": {},
   "outputs": [],
   "source": [
    "bilddaten = lade_bilder()"
   ]
  },
  {
   "source": [
    "Mit `bilddaten[x]` kann auf das `x-1`-ste Bild zugegriffen werden. Die Methode `.zeige_bild()` gibt das Bild grafisch aus."
   ],
   "cell_type": "markdown",
   "metadata": {}
  },
  {
   "cell_type": "code",
   "execution_count": null,
   "metadata": {},
   "outputs": [],
   "source": [
    "bilddaten[53].zeige_bild(zeige_kategorie=True)"
   ]
  },
  {
   "source": [
    "Mit `zeige_uebersicht()` erhält man eine Übersicht über die Verteilung der Kategorien. Der erste Parameter gibt an, wie die Spalte beschriftet sein soll. Danach folgen ein oder mehrere Listen mit Bildateien."
   ],
   "cell_type": "markdown",
   "metadata": {}
  },
  {
   "cell_type": "code",
   "execution_count": null,
   "metadata": {},
   "outputs": [],
   "source": [
    "zeige_uebersicht([\"Roh\"], bilddaten)"
   ]
  },
  {
   "source": [
    "Nun werden die Bildateien in zwei Datensätze aufgeteilt. `tv` ist kurz für Training+Validierung. "
   ],
   "cell_type": "markdown",
   "metadata": {}
  },
  {
   "cell_type": "code",
   "execution_count": null,
   "metadata": {},
   "outputs": [],
   "source": [
    "bilddaten_tv, bilddaten_test = trenne_bilddaten_zufaellig(bilddaten, anteil_erster_block=0.3)"
   ]
  },
  {
   "source": [
    "Im nächsten Schritt werden die `tv`-Daten vervielfältigt, damit das Training einfacher wird. Alle Bilder werden verfünffacht. Dafür werden jeweils vier Kopien des Bildes mit zufälligen Rotationen erstellt. Die Hälfte der Bilder wird zusätzlich zufällig gespiegelt. \n",
    "Um das Training der Leptonenzerfälle zu verbessern werden die Daten zu diesen Events zusätzlich noch verzwölffacht."
   ],
   "cell_type": "markdown",
   "metadata": {}
  },
  {
   "cell_type": "code",
   "execution_count": null,
   "metadata": {},
   "outputs": [],
   "source": [
    "faktor_alle = 5\n",
    "faktor_leptonen = 12\n",
    "bilddaten_tv_vermehrt = vervielfaeltige_daten(bilddaten_tv, [faktor_alle, faktor_alle*faktor_leptonen, faktor_alle*faktor_leptonen, faktor_alle*faktor_leptonen])"
   ]
  },
  {
   "source": [
    "Nun werden die `tv`-Daten in Training (`t`) und Validierung (`v`) unterteilt.\n",
    "\n",
    "Abschließend wird erneut eine Übersicht ausgegeben."
   ],
   "cell_type": "markdown",
   "metadata": {}
  },
  {
   "cell_type": "code",
   "execution_count": null,
   "metadata": {},
   "outputs": [],
   "source": [
    "bilddaten_training, bilddaten_validierung = trenne_bilddaten_zufaellig(bilddaten_tv_vermehrt, anteil_erster_block=0.66)\n",
    "\n",
    "zeige_uebersicht([\"Roh\", \"TV\", \"TV verm\", \"Train\", \"Vali\", \"Test\"], bilddaten, bilddaten_tv, bilddaten_tv_vermehrt, bilddaten_training, bilddaten_validierung, bilddaten_test)"
   ]
  },
  {
   "source": [
    "Die Trainingsdaten sind jetzt passend vorbereitet. Im nächsten Block wird ein Modell zum Lernen erstellt. Die Struktur wird einmal ausgegeben. In den letzten beiden Zeilen werden die Trainings- und Validierungsdaten geladen."
   ],
   "cell_type": "markdown",
   "metadata": {}
  },
  {
   "cell_type": "code",
   "execution_count": null,
   "metadata": {},
   "outputs": [],
   "source": [
    "modell = Modell()\n",
    "modell.lade_modellstruktur()\n",
    "modell.zeige_modelluebersicht()\n",
    "modell.lade_trainingsdaten(bilddaten_training)\n",
    "modell.lade_validierungsdaten(bilddaten_validierung)"
   ]
  },
  {
   "source": [
    "Mit `trainiere()` wird das Training des Modells gestartet. `anzahl_epochen` gibt an, wie oft über alle Trainings- und Validierungsdaten gelaufen wird. Bei diesen Daten sind häufig Werte zwischen 3 und 6 sinnvoll."
   ],
   "cell_type": "markdown",
   "metadata": {}
  },
  {
   "cell_type": "code",
   "execution_count": null,
   "metadata": {},
   "outputs": [],
   "source": [
    "modell.trainiere(anzahl_epochen=4)"
   ]
  },
  {
   "source": [
    "Die Lernkurve zeigt an, wie die Treffergenauigkeit sich im Laufe des Trainings verändert. Dabei wird die Treffergenauigkeit in Trainingsdaten und Validierungsdaten getrennt aufgetragen."
   ],
   "cell_type": "markdown",
   "metadata": {}
  },
  {
   "cell_type": "code",
   "execution_count": null,
   "metadata": {},
   "outputs": [],
   "source": [
    "modell.zeige_lernkurve()"
   ]
  },
  {
   "source": [
    "Mit dem trainierten Modell können wir nun die Kategorien der Testdaten vorhersagen. Dabei wird die schon zugewiesene Kategorie der Testdaten ignoriert. Die Confusion Matrix ist ein Indikator dafür, wie gut die Vorhersage mit dem Modell funktioniert. Ein perfektes Modell hätte nur Einträge auf der Diagonalen: Jede Kategorie wird vom Modell so erkannt, wie sie vorher schon dem Bild zugeordnet war. Tatsächlich treten häufig einige falsche Vorhersagen auf. "
   ],
   "cell_type": "markdown",
   "metadata": {}
  },
  {
   "cell_type": "code",
   "execution_count": null,
   "metadata": {},
   "outputs": [],
   "source": [
    "bilddaten_vorhersage = modell.erstelle_vorhersage(bilddaten_test)\n",
    "zeige_confusion_matrix(bilddaten_test, bilddaten_vorhersage)"
   ]
  },
  {
   "source": [
    "Hier wird die Übersicht über die Verzweigungsverhältnisse noch um eine Spalte mit den vorhergesagten Daten erweitert."
   ],
   "cell_type": "markdown",
   "metadata": {}
  },
  {
   "cell_type": "code",
   "execution_count": null,
   "metadata": {},
   "outputs": [],
   "source": [
    "zeige_uebersicht([\"Roh\", \"TV\", \"TV verm\", \"Train\", \"Vali\", \"Test\", \"Vorh\"], bilddaten, bilddaten_tv, bilddaten_tv_vermehrt, bilddaten_training, bilddaten_validierung, bilddaten_test, bilddaten_vorhersage)"
   ]
  },
  {
   "source": [
    "Man kann sich nun noch anschauen, welche Bilder falsch vorhergesagt wurden. Gelegentlich ist eine Einteilung auch für Menschen nicht eindeutig möglich."
   ],
   "cell_type": "markdown",
   "metadata": {}
  },
  {
   "cell_type": "code",
   "execution_count": null,
   "metadata": {},
   "outputs": [],
   "source": [
    "zeige_falsche_vorhersagen(bilddaten_test, bilddaten_vorhersage, anzahl=5)"
   ]
  },
  {
   "cell_type": "code",
   "execution_count": null,
   "metadata": {},
   "outputs": [],
   "source": []
  },
  {
   "cell_type": "code",
   "execution_count": null,
   "metadata": {},
   "outputs": [],
   "source": []
  },
  {
   "cell_type": "code",
   "execution_count": null,
   "metadata": {},
   "outputs": [],
   "source": []
  },
  {
   "cell_type": "code",
   "execution_count": null,
   "metadata": {},
   "outputs": [],
   "source": []
  },
  {
   "cell_type": "code",
   "execution_count": null,
   "metadata": {},
   "outputs": [],
   "source": []
  },
  {
   "cell_type": "code",
   "execution_count": null,
   "metadata": {},
   "outputs": [],
   "source": []
  },
  {
   "cell_type": "code",
   "execution_count": null,
   "metadata": {},
   "outputs": [],
   "source": []
  },
  {
   "cell_type": "code",
   "execution_count": null,
   "metadata": {},
   "outputs": [],
   "source": []
  },
  {
   "cell_type": "code",
   "execution_count": null,
   "metadata": {},
   "outputs": [],
   "source": []
  },
  {
   "cell_type": "code",
   "execution_count": null,
   "metadata": {},
   "outputs": [],
   "source": []
  },
  {
   "cell_type": "code",
   "execution_count": null,
   "metadata": {},
   "outputs": [],
   "source": []
  },
  {
   "cell_type": "code",
   "execution_count": null,
   "metadata": {},
   "outputs": [],
   "source": []
  }
 ],
 "metadata": {
  "kernelspec": {
   "name": "python385jvsc74a57bd0cef9e06bb236b2a8629b07e87a04b187b952a0f661eff5533360a155783f0c33",
   "display_name": "Python 3.8.5 64-bit ('base': conda)"
  },
  "language_info": {
   "codemirror_mode": {
    "name": "ipython",
    "version": 3
   },
   "file_extension": ".py",
   "mimetype": "text/x-python",
   "name": "python",
   "nbconvert_exporter": "python",
   "pygments_lexer": "ipython3",
   "version": "3.8.5"
  }
 },
 "nbformat": 4,
 "nbformat_minor": 4
}