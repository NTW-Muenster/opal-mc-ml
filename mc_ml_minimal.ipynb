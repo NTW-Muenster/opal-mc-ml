{
 "cells": [
  {
   "cell_type": "markdown",
   "metadata": {},
   "source": [
    "# Opal Masterclass mit Maschine Learning\n",
    "\n",
    "### 1. Vorbereitung\n",
    "\n",
    "In diesem Block werden verschiedene Funktionen und Pakete geladen. Das musst du dir nicht weiter anschauen."
   ]
  },
  {
   "cell_type": "code",
   "execution_count": null,
   "metadata": {},
   "outputs": [
    {
     "name": "stdout",
     "output_type": "stream",
     "text": [
      "Helpers schon vorhanden\n"
     ]
    }
   ],
   "source": [
    "import os, platform\n",
    "if \"opal_mc_ml_helpers.py\" in os.listdir():\n",
    "    print(\"Helpers schon vorhanden\")\n",
    "else:\n",
    "    if platform.system() == \"Linux\":\n",
    "        print(\"Helpers nicht vorhanden, starte Download...\", end=\"\")\n",
    "        os.system(\"wget -O opal_mc_ml_helpers.py \\\"https://raw.githubusercontent.com/ntiltmann/opal-mc-ml/main/opal_mc_ml_helpers.py\\\"\")\n",
    "        print(\" abgeschlossen!\")\n",
    "    elif platform.system() == \"Darwin\":\n",
    "        print(\"Helpers nicht vorhanden, starte Download...\", end=\"\")\n",
    "        os.system(\"curl -o opal_mc_ml_helpers.py \\\"https://raw.githubusercontent.com/ntiltmann/opal-mc-ml/main/opal_mc_ml_helpers.py\\\"\")\n",
    "        print(\" abgeschlossen!\")\n",
    "    else:\n",
    "        raise Exception(\"Kein Automatischer Download unter Windows möglich. Bitte alle Dateien manuell herunterladen und entpacken.\")\n",
    "from opal_mc_ml_helpers import *\n",
    "check_files()"
   ]
  },
  {
   "cell_type": "markdown",
   "metadata": {},
   "source": [
    "Die Funktion `load_events()` lädt alle Ereignisse und gibt sie als Liste aus. In der nächsten Zeile sollen alle Events in eine Liste mit dem Namen `eventliste` geladen werden. "
   ]
  },
  {
   "cell_type": "code",
   "execution_count": null,
   "metadata": {},
   "outputs": [],
   "source": []
  },
  {
   "cell_type": "markdown",
   "metadata": {},
   "source": [
    "Hier soll jetzt ein Event-Display angezeigt werden. Dabei kann mit `eventliste[x]` auf das `x-1`-ste Ereignis zugegriffen werden. Die Methode `.show_image()` gibt das Ereignis grafisch aus. Dieser Schritt hat keine Auswirkungen auf das Neuronale Netz o.ä sondern dient nur der Visualisierung. "
   ]
  },
  {
   "cell_type": "code",
   "execution_count": null,
   "metadata": {},
   "outputs": [],
   "source": []
  },
  {
   "cell_type": "markdown",
   "metadata": {},
   "source": [
    "### 2. Übersichtstabelle anlegen\n",
    "\n",
    "Um später Übersichten über die Verzweigungsverhältnisse anzeigen zu können, soll ein Objekt der Klasse `Overview` erstellt werden. \n",
    "\n",
    "Mit `overview.add_entry()` kann eine bestimmte Eventliste der Übersicht hinzugefügt werden. Der erste Parameter gibt an, wie die Spalte beschriftet sein soll. Danach folgt die Eventliste selbst.\n",
    "\n",
    "Mit `overview.show()` kann dann die Übersicht angezeigt werden.\n",
    "\n",
    "Als erstes sollen die Rohdaten, die in der Liste `eventliste` gespeichert sind, zur Übersicht hinzugefügt und angezeigt werden. "
   ]
  },
  {
   "cell_type": "code",
   "execution_count": null,
   "metadata": {},
   "outputs": [],
   "source": []
  },
  {
   "cell_type": "markdown",
   "metadata": {},
   "source": [
    "### 3. Training & Validierung\n",
    "\n",
    "Als nächstes sollen die Bilddateien in zwei Datensätze aufgeteilt werden. Einen für Training und Validierung (Abkürzung `tv`) und einen für den anschließenden Test des KNN. Wähle an dieser Stelle das Verhältnis selber. Trage dafür eine Zahl zwischen `0`und `1` ein. Diese Zahl gibt an wie viel Prozent der Bilddateien in den Datensatz für Training und Validierung hinzugefügt werden. \n",
    "\n",
    "**Beispiel:** eventliste_tv, eventliste_test = split_events_random(eventliste, fraction_first_block=0.1) bedeutet, dass 10% der Bilddateien zufällig in den Datensatz für Training und Validierung (`eventliste_tv`) hinzugefügt werden und 90% für den anschließenden Test (`eventliste_test`) genutzt werden. \n",
    "\n",
    "**Hinweis:** Bedenke, dass eine gute Datenbasis für Training und Validierung gebraucht wird, aber die für Training und Validierung verwendeten Daten bekannt sein müssen. Werden sehr viele Daten für Training und Validierung genutzt, bleiben nicht mehr ausreichend Daten für die eigentliche Datenauswertung mit dem Neuronalen Netz.   "
   ]
  },
  {
   "cell_type": "code",
   "execution_count": null,
   "metadata": {},
   "outputs": [],
   "source": []
  },
  {
   "cell_type": "markdown",
   "metadata": {},
   "source": [
    "Im nächsten Schritt soll die Data Augementation folgen, das bedeutet, dass die `tv`-Daten vervielfältigt werden, damit das Training einfacher wird. Wähle zunächst für alle vier Faktoren (`faktor_q`, `faktor_e`, `faktor_m`, `faktor_t`) einen ganzzahligen Wert zwischen `2`und `5` mit dem die Daten vervielfältigt werden. Später kann es sinnvoll sein, diese Werte teilweise nochmal zu verändern (grundsätzlich sind dann auch deutlich größere Werte als `5` möglich). Beim Vervielfältigen werden jeweils Kopien des Bildes mit zufälligen Rotationen erstellt. Die Hälfte der Bilder wird zusätzlich zufällig gespiegelt. "
   ]
  },
  {
   "cell_type": "code",
   "execution_count": null,
   "metadata": {},
   "outputs": [],
   "source": []
  },
  {
   "cell_type": "markdown",
   "metadata": {},
   "source": [
    "Nun sollen die `tv`-Daten in Training (`t`) und Validierung (`v`) unterteilt werden."
   ]
  },
  {
   "cell_type": "code",
   "execution_count": null,
   "metadata": {},
   "outputs": [],
   "source": []
  },
  {
   "cell_type": "markdown",
   "metadata": {},
   "source": [
    "Die Übersicht wird aktualisiert und ausgegeben."
   ]
  },
  {
   "cell_type": "code",
   "execution_count": null,
   "metadata": {},
   "outputs": [],
   "source": [
    "overview.add_entry(\"TV\", eventliste_tv)\n",
    "overview.add_entry(\"TV verm\", eventliste_tv_vermehrt)\n",
    "overview.add_entry(\"Train\", eventliste_training)\n",
    "overview.add_entry(\"Vali\", eventliste_validierung)\n",
    "overview.add_entry(\"Test\", eventliste_test)\n",
    "overview.show()"
   ]
  },
  {
   "cell_type": "markdown",
   "metadata": {},
   "source": [
    "### 4. Modell für das Neuronale Netz anlegen \n",
    "\n",
    "Die Trainingsdaten sind jetzt passend vorbereitet. Im nächsten Block wird soll ein Modell zum Lernen erstellt und die Struktur des Modells einmal ausgegeben werden. In den letzten beiden Zeilen sollen die Trainings- und Validierungsdaten geladen werden."
   ]
  },
  {
   "cell_type": "code",
   "execution_count": null,
   "metadata": {},
   "outputs": [],
   "source": []
  },
  {
   "cell_type": "markdown",
   "metadata": {},
   "source": [
    "### 5. Training des Modells\n",
    "\n",
    "Nun soll mit `train()` das Training des Modells gestartet werden. `count_epochs` gibt dabei an, wie oft über alle Trainings- und Validierungsdaten gelaufen wird. Bei diesen Daten sind häufig Werte zwischen 3 und 6 sinnvoll. Probiere aus, welche Unterschiede du beobachten kannst. \n",
    "\n",
    "**Achtung:** Um Unterschiede zwischen der Anzahl an Trainingsrunden beobachten zu können, muss auch die Zelle vorher, in der das Modell für das Neuronale Netz angelegt wurde, erneut ausgeführt werden."
   ]
  },
  {
   "cell_type": "code",
   "execution_count": null,
   "metadata": {},
   "outputs": [],
   "source": []
  },
  {
   "cell_type": "markdown",
   "metadata": {},
   "source": [
    "Als nächstes soll die Lernkurve angezeigt werden. \n",
    "\n",
    "Die Lernkurve zeigt an, wie die Treffergenauigkeit sich im Laufe des Trainings verändert. Dabei wird die Treffergenauigkeit in Trainingsdaten und Validierungsdaten getrennt aufgetragen."
   ]
  },
  {
   "cell_type": "code",
   "execution_count": null,
   "metadata": {},
   "outputs": [],
   "source": []
  },
  {
   "cell_type": "markdown",
   "metadata": {},
   "source": [
    "### 6. Vorhersage der OPAL-Daten mit dem Neuronalen Netz\n",
    "Mit dem trainierten Modell soll nun die Kategorien der Testdaten vorhergesagt werden. Dabei wird die schon zugewiesene Kategorie der Testdaten ignoriert. "
   ]
  },
  {
   "cell_type": "code",
   "execution_count": null,
   "metadata": {},
   "outputs": [],
   "source": []
  },
  {
   "cell_type": "markdown",
   "metadata": {},
   "source": [
    "Die Confusion Matrix ist ein Indikator dafür, wie gut die Vorhersage mit dem Modell funktioniert. Ein perfektes Modell hätte nur Einträge auf der Diagonalen: Jede Kategorie wird vom Modell so erkannt, wie sie vorher schon dem Bild zugeordnet war. Tatsächlich treten häufig einige falsche Vorhersagen auf.\n",
    "\n",
    "Lass dir die Confusion Matrix anzeigen."
   ]
  },
  {
   "cell_type": "code",
   "execution_count": null,
   "metadata": {},
   "outputs": [],
   "source": []
  },
  {
   "cell_type": "markdown",
   "metadata": {},
   "source": [
    "Hier soll die Übersicht über die Verzweigungsverhältnisse noch um eine Spalte mit den vorhergesagten Daten erweitert werden."
   ]
  },
  {
   "cell_type": "code",
   "execution_count": null,
   "metadata": {},
   "outputs": [],
   "source": []
  },
  {
   "cell_type": "markdown",
   "metadata": {},
   "source": [
    "Nun kannst du dir noch anschauen, welche Bilder falsch vorhergesagt wurden. Gelegentlich ist eine Einteilung auch für Menschen nicht eindeutig möglich."
   ]
  },
  {
   "cell_type": "code",
   "execution_count": null,
   "metadata": {},
   "outputs": [],
   "source": []
  }
 ],
 "metadata": {
  "kernelspec": {
   "display_name": "Python 3",
   "language": "python",
   "name": "python3"
  },
  "language_info": {
   "codemirror_mode": {
    "name": "ipython",
    "version": 3
   },
   "file_extension": ".py",
   "mimetype": "text/x-python",
   "name": "python",
   "nbconvert_exporter": "python",
   "pygments_lexer": "ipython3",
   "version": "3.9.2"
  },
  "vscode": {
   "interpreter": {
    "hash": "3c85a9f82814a73202534cb24f653a829a8b05ab6d6300336fbb4fc8d6caaf8f"
   }
  }
 },
 "nbformat": 4,
 "nbformat_minor": 4
}
