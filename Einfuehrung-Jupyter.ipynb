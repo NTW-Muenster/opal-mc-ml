{
 "cells": [
  {
   "cell_type": "markdown",
   "id": "d289cb2a",
   "metadata": {},
   "source": [
    "Ein Jupyter Notebook besteht aus mehreren Zellen, die jeweils einzeln ausgeführt werden. \n",
    "Um eine Zelle auszuführen klick auf `Run` oder nutze die Tastenkombination `Shift`-`Enter`. Es wird immer die Zelle ausgeführt, die gerade umrandetet ist.\n",
    "Versuche direkt mal dein Glück und führe die nächste Zelle aus:\n"
   ]
  },
  {
   "cell_type": "code",
   "execution_count": 1,
   "id": "b695204a",
   "metadata": {},
   "outputs": [
    {
     "name": "stdout",
     "output_type": "stream",
     "text": [
      "Hello World!\n"
     ]
    }
   ],
   "source": [
    "print(\"Hello World!\")"
   ]
  },
  {
   "cell_type": "markdown",
   "id": "49be169c",
   "metadata": {},
   "source": [
    "Beim Programmieren werden häufig Variablen verwendet. In der folgenden Zelle ist bereits die Variable `a` definiert und ihr wurde der Wert `42` zugewiesen. Mit dem Befehl `print(a)` wird ihr Wert ausgegeben. \n",
    "Definiere in der gleichen Zelle die Variable `b` und weise ihr einen Wert deiner Wahl zu.\n",
    "Lass sowohl `b`als auch die Summe `a+b`ausgeben. "
   ]
  },
  {
   "cell_type": "code",
   "execution_count": 2,
   "id": "544071fa",
   "metadata": {},
   "outputs": [
    {
     "name": "stdout",
     "output_type": "stream",
     "text": [
      "42\n"
     ]
    }
   ],
   "source": [
    "a = 42\n",
    "print(a)"
   ]
  },
  {
   "cell_type": "markdown",
   "id": "76a28320",
   "metadata": {},
   "source": [
    "Natürlich kann in einem Jupyter Notebook auch mit Dezimalzahlen gearbeitet werden. Aber Achtung: Dezimalzahlen werden mit einem Punkt und nicht mit einem Komma geschrieben.\n",
    "Definiere in der folgenden Zelle eine weitere Dezimalzahl `d`, berechne die Differenz `c-d` und lass sie ausgeben."
   ]
  },
  {
   "cell_type": "code",
   "execution_count": 3,
   "id": "6ba645c9",
   "metadata": {},
   "outputs": [],
   "source": [
    "c = 3.21"
   ]
  },
  {
   "cell_type": "markdown",
   "id": "d8c22def",
   "metadata": {},
   "source": [
    "Wenn man etwas ausprobiert oder seinen Code dokumentieren möchte, benutzt man häufig Kommentare. Diese werden immer mit `#` begonnen und alles was in der gleichen Zeile folgt, wird vom Computer beim ausführen ignoriert. "
   ]
  },
  {
   "cell_type": "code",
   "execution_count": 4,
   "id": "ac0c0402",
   "metadata": {},
   "outputs": [
    {
     "name": "stdout",
     "output_type": "stream",
     "text": [
      "60\n"
     ]
    }
   ],
   "source": [
    "# Hier werden zwei Zahlen multipliziert.\n",
    "x = 5\n",
    "y = 12\n",
    "print (x * y)\n",
    "z = x * y # z ist das Produkt aus x und y\n",
    "# print(z)"
   ]
  },
  {
   "cell_type": "markdown",
   "id": "8016d589",
   "metadata": {},
   "source": [
    "Hat man mehrere Daten vom gleichen Typ so werden diese oftmals in einer Liste gespeichert. Dabei beginnt und endet eine Liste immer mit einer eckigen Klammer. Die einzelnen Werte werden mit einem Komma getrennt. Die Liste kann mit `print(Name)` als gesammtes ausgegeben werden oder es kann mit `print(name[x])` das `x+1` Element der Liste ausgegeben werden (die Nummerierung startet bei 0). Schau das dir das Beispiel mal genau an:"
   ]
  },
  {
   "cell_type": "code",
   "execution_count": 2,
   "id": "501398a1",
   "metadata": {},
   "outputs": [
    {
     "name": "stdout",
     "output_type": "stream",
     "text": [
      "Liste mit Wochentagen:\n",
      "['Montag', 'Dienstag', 'Mittwoch', 'Donnerstag', 'Freitag', 'Samstag', 'Sonntag']\n",
      "Montag\n",
      "Mittwoch\n",
      "Liste mit den ersten Fibonacci-Zahlen:\n"
     ]
    }
   ],
   "source": [
    "print('Liste mit Wochentagen:')\n",
    "wochentage = ['Montag', 'Dienstag', 'Mittwoch', 'Donnerstag', 'Freitag', 'Samstag', 'Sonntag']\n",
    "print(wochentage)\n",
    "print(wochentage[0])\n",
    "print(wochentage [2])\n",
    "\n",
    "print('Liste mit den ersten Fibonacci-Zahlen:')\n",
    "fibonacci = [1, 1, 2, 3, 5, 8, 13, 21, 34, 55]"
   ]
  },
  {
   "cell_type": "markdown",
   "id": "4f0d76ef-ac9a-4024-8c0b-0ae5006ff5a1",
   "metadata": {},
   "source": [
    "Lass dir nun einmal die Liste der ersten Fibonacci-Zahlen sowie, die 4. Fibonacci Zahl ausgeben. "
   ]
  },
  {
   "cell_type": "code",
   "execution_count": null,
   "id": "5c4e33cf",
   "metadata": {},
   "outputs": [],
   "source": []
  }
 ],
 "metadata": {
  "kernelspec": {
   "display_name": "Python 3 (ipykernel)",
   "language": "python",
   "name": "python3"
  },
  "language_info": {
   "codemirror_mode": {
    "name": "ipython",
    "version": 3
   },
   "file_extension": ".py",
   "mimetype": "text/x-python",
   "name": "python",
   "nbconvert_exporter": "python",
   "pygments_lexer": "ipython3",
   "version": "3.9.13"
  }
 },
 "nbformat": 4,
 "nbformat_minor": 5
}
